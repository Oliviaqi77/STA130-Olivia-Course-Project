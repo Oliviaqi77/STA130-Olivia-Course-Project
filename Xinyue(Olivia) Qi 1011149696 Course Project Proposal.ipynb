{
 "cells": [
  {
   "cell_type": "markdown",
   "id": "8cc80320",
   "metadata": {},
   "source": [
    "# Couse Project Proposal"
   ]
  },
  {
   "cell_type": "markdown",
   "id": "3d228e78",
   "metadata": {},
   "source": [
    "Analysis of Canadian Social Connection Survey (CSCS) Data"
   ]
  },
  {
   "cell_type": "markdown",
   "id": "2e0dd5b1",
   "metadata": {},
   "source": [
    "Introduction:\n",
    "This project explores the relationships between social connection, community engagement, and various aspects of well-being using data from the Canadian Social Connection Survey (CSCS). By analyzing the CSCS data, I aim to uncover insights that could help emphasize the importance of social connections for personal and community health. Below, I propose three distinct analyses, each designed to explore different aspects of social well-being and connection."
   ]
  },
  {
   "cell_type": "markdown",
   "id": "0eb10518",
   "metadata": {},
   "source": [
    "# Analysis 1: Exploring the Link Between Social Interaction and Mental Health"
   ]
  },
  {
   "cell_type": "markdown",
   "id": "d0f29d4e",
   "metadata": {},
   "source": [
    "Research Question:\n",
    "\n",
    "Does the frequency of social interactions correlate with self-reported mental well-being?"
   ]
  },
  {
   "cell_type": "markdown",
   "id": "1fe76e80",
   "metadata": {},
   "source": [
    "Variables:\n",
    "\n",
    "1. Social Interaction Frequency: This variable measures how often an individual interacts with others each week, which could include time spent with friends, family, community members and others they can rely on.\n",
    "2. Mental Well-being: This is a self-rated measure of an individual’s mental health. It may provides options such as “poor,” “fair,” “good,” and “excellent” to capture how individuals feel about their mental state."
   ]
  },
  {
   "cell_type": "markdown",
   "id": "50ff68c0",
   "metadata": {},
   "source": [
    "Hypothesis Statement:\n",
    "\n",
    "1. Null Hypothesis (H₀): There is no significant relationship between the frequency of social interaction and mental well-being scores. In other words, the frequency of social interactions has no impact on mental well-being.\n",
    "2. Alternative Hypothesis (H₁): There is a significant positive relationship between the frequency of social interaction and mental well-being scores, meaning that individuals who engage in social interactions more frequently report higher mental well-being."
   ]
  },
  {
   "cell_type": "markdown",
   "id": "d86ede9b",
   "metadata": {},
   "source": [
    "Analysis Method:\n",
    "\n",
    "I'm planning to use correlation analysis to explore whether there’s a statistical relationship between social interaction frequency and mental well-being. Correlation tests, like Pearson’s or Spearman's, allow us to see how strongly and in what direction these variables are related.If the variables are continuous, Pearson correlation is appropriate; however, if they are ordinal (e.g., categorical frequencies), Spearman's rank correlation may provide more accurate insights."
   ]
  },
  {
   "cell_type": "markdown",
   "id": "a4a6107b",
   "metadata": {},
   "source": [
    "Example:\n",
    "\n",
    "Suppose we find a moderate positive correlation (e.g., 0.4), indicating that as social interaction frequency increases, mental well-being scores also improve. This would suggest that people who interact socially more frequently may report better mental health."
   ]
  },
  {
   "cell_type": "markdown",
   "id": "03441efb",
   "metadata": {},
   "source": [
    "Visualization:\n",
    "\n",
    "To understand the relationship between social interactions and mental health, I plan to use the following visualizations:\n",
    "\n",
    "1. Scatter Plot: This will display each participant’s frequency of social interactions on the x-axis and their mental well-being score on the y-axis. We expect to see a trend line showing whether more frequent social interactions are associated with higher mental well-being scores.\n",
    "2. Box Plot: By grouping people into categories (e.g., low, medium, high interaction frequency), we can create a box plot to compare the spread of mental well-being scores in each group. This could highlight if certain groups consistently report higher mental well-being."
   ]
  },
  {
   "cell_type": "markdown",
   "id": "2faeaee4",
   "metadata": {},
   "source": [
    "Interpretation:\n",
    "\n",
    "If a positive correlation is found, it would substantiate the claim that frequent social interactions are linked to improved mental well-being."
   ]
  },
  {
   "cell_type": "markdown",
   "id": "ae0ed597",
   "metadata": {},
   "source": [
    "Expected Outcomes and Relevance:\n",
    "\n",
    "I expect that people who engage in more frequent social interactions will report better mental well-being. If this is true, it could support programs that encourage more social engagement as a way to improve mental health. For example, findings like these could be shared in campaigns to promote community events or social activities, especially for people who may feel isolated or lonely."
   ]
  },
  {
   "cell_type": "markdown",
   "id": "d2907dce",
   "metadata": {},
   "source": [
    "# Analysis2: Investigating the Role of Social Support Networks in Life Satisfaction"
   ]
  },
  {
   "cell_type": "markdown",
   "id": "f3d9778d",
   "metadata": {},
   "source": [
    "Research Question: \n",
    "\n",
    "Does the size of an individual's social support network influence their overall life satisfaction?"
   ]
  },
  {
   "cell_type": "markdown",
   "id": "9d2bd06d",
   "metadata": {},
   "source": [
    "Variables:\n",
    "\n",
    "1. Social Support Network Size: This variable reflects the number of people an individual considers part of their support network, such as close friends, family, and others they can rely on.\n",
    "2. Life Satisfaction: \n",
    "This variable captures respondents’ self-rated life satisfaction, potentially on a scale from 1 (very dissatisfied) to 10 (very satisfied)."
   ]
  },
  {
   "cell_type": "markdown",
   "id": "2f58ae5a",
   "metadata": {},
   "source": [
    "Hypothesis Statement:\n",
    "\n",
    "1. Null Hypothesis (H₀): The size of an individual's social support network has no effect on their life satisfaction. There is no significant relationship between the size of the social support network and life satisfaction scores.\n",
    "2. Alternative Hypothesis (H₁): The size of an individual's social support network is positively associated with life satisfaction. An increase in the size of the social support network is correlated with higher life satisfaction scores.\n"
   ]
  },
  {
   "cell_type": "markdown",
   "id": "c032ab37",
   "metadata": {},
   "source": [
    "Analysis Method:\n",
    "\n",
    "A Linear Regression Analysis will help assess whether there is a positive relationship between the size of one’s social support network and life satisfaction. Linear regression is useful here because it can quantify how much life satisfaction increases with each additional person in one’s support network, if there is a significant association."
   ]
  },
  {
   "cell_type": "markdown",
   "id": "e86da608",
   "metadata": {},
   "source": [
    "Example: \n",
    "\n",
    "If the regression shows a positive coefficient for social support network size, this would indicate that a larger support network is associated with higher life satisfaction scores. For instance, every additional person in one’s support network might be associated with a 0.5-point increase in life satisfaction."
   ]
  },
  {
   "cell_type": "markdown",
   "id": "7e3e0342",
   "metadata": {},
   "source": [
    "Visualization:\n",
    "\n",
    "To explore this potential relationship, I suggest:\n",
    "\n",
    "1. Histogram: Showing the distribution of life satisfaction scores based on different ranges of social support network sizes. This can provide an overview of how satisfaction varies with network size.\n",
    "2. Line Plot: This plot could illustrate the trend in average life satisfaction scores as the social support network size increases, showing if there’s a steady improvement or a plateau at a certain network size."
   ]
  },
  {
   "cell_type": "markdown",
   "id": "cc080ac6",
   "metadata": {},
   "source": [
    "Interpretation:\n",
    "\n",
    "\n",
    "If the analysis shows that larger social support networks are positively associated with life satisfaction, it would support existing research on the importance of social ties for well-being."
   ]
  },
  {
   "cell_type": "markdown",
   "id": "4a7742df",
   "metadata": {},
   "source": [
    "Expected Outcomes and Relevance:\n",
    "\n",
    "I expect that individuals with larger social support networks will report higher life satisfaction. This relationship, if present, would support the idea that strong social networks contribute positively to overall happiness. These findings could be used in public awareness campaigns encouraging people to foster supportive relationships, emphasizing that building a network isn’t just emotionally beneficial but also linked to long-term satisfaction."
   ]
  },
  {
   "cell_type": "markdown",
   "id": "07fef6e7",
   "metadata": {},
   "source": [
    "# Analysis 3: Examining the Effect of Community Involvement on Physical Health Perceptions"
   ]
  },
  {
   "cell_type": "markdown",
   "id": "cef83f1b",
   "metadata": {},
   "source": [
    "Research Question: \n",
    "\n",
    "Is there an association between community engagement levels and physical health ratings?"
   ]
  },
  {
   "cell_type": "markdown",
   "id": "77bcae24",
   "metadata": {},
   "source": [
    "Variables:\n",
    "\n",
    "1. Community Engagement Level: This variable indicates how involved an individual is with their community. Options may include “not involved,” “occasionally involved,” or “regularly involved.”\n",
    "2. Physical Health Self-Assessment: This is a self-reported measure where participants rate their physical health, with options such as “poor,” “fair,” “good,” and “excellent.”"
   ]
  },
  {
   "cell_type": "markdown",
   "id": "7b653524",
   "metadata": {},
   "source": [
    "Hypothesis Statement:\n",
    "\n",
    "1. Null Hypothesis (H₀): Community engagement level is not associated with self-assessed physical health. Individuals who participate in community activities do not report significantly different physical health ratings compared to those who do not engage.\n",
    "2. Alternative Hypothesis (H₁): Community engagement level is positively associated with self-assessed physical health, such that individuals who are more involved in community activities report better physical health ratings than those who are less involved."
   ]
  },
  {
   "cell_type": "markdown",
   "id": "f7584a1a",
   "metadata": {},
   "source": [
    "Analysis Method:\n",
    "\n",
    "A Chi-Square Test of Independence will help determine if there’s a statistically significant association between community engagement levels and self-rated physical health. This test is ideal for comparing categorical data (like different engagement levels and health ratings) to see if the patterns we observe are likely due to chance or reflect a real relationship."
   ]
  },
  {
   "cell_type": "markdown",
   "id": "b9ca631f",
   "metadata": {},
   "source": [
    "Example: \n",
    "\n",
    "Let’s say the Chi-Square test finds a significant association, showing that those who frequently engage in community activities are more likely to rate their physical health as \"good\" or \"excellent.\" This would imply that community engagement might positively impact physical health perceptions."
   ]
  },
  {
   "cell_type": "markdown",
   "id": "e6d9c11c",
   "metadata": {},
   "source": [
    "Visualization:\n",
    "\n",
    "To visualize the potential link between community involvement and physical health, I propose the following:\n",
    "1. Bar Graph: This would show the average physical health rating for each community engagement level, helping us see whether those who are more engaged report better health.\n",
    "2. Stacked Bar Chart: This chart can show the percentage of people in each health rating category within each level of community engagement. For example, it might reveal that people who are highly engaged with their communities are more likely to rate their physical health as “good” or “excellent.”"
   ]
  },
  {
   "cell_type": "markdown",
   "id": "a78436d9",
   "metadata": {},
   "source": [
    "Interpretation:\n",
    "\n",
    "\n",
    "A significant association would imply that community engagement may positively influence physical health, or at least individuals’ perception of it. "
   ]
  },
  {
   "cell_type": "markdown",
   "id": "d4a61d00",
   "metadata": {},
   "source": [
    "Expected Outcomes and Relevance:\n",
    "\n",
    "I hypothesize that individuals who are more actively involved in their community will report better physical health. Finding such a relationship would be relevant for the project’s objectives because it would highlight community engagement as a potential factor for physical health. Campaigns could use these insights to encourage people to join community activities or volunteer as a way to boost both mental and physical well-being."
   ]
  },
  {
   "cell_type": "markdown",
   "id": "08ce3ba6",
   "metadata": {},
   "source": [
    "# That's the end of my course project proposal. Thanks for reading!"
   ]
  },
  {
   "cell_type": "markdown",
   "id": "0f4e90f6",
   "metadata": {},
   "source": [
    "# Hope I can have a fun time working on this interesting project!!\n",
    "btw: It would be my pleasure if I can enter the same group with my RSG leader Sylvia Wong."
   ]
  }
 ],
 "metadata": {
  "kernelspec": {
   "display_name": "Python 3 (ipykernel)",
   "language": "python",
   "name": "python3"
  },
  "language_info": {
   "codemirror_mode": {
    "name": "ipython",
    "version": 3
   },
   "file_extension": ".py",
   "mimetype": "text/x-python",
   "name": "python",
   "nbconvert_exporter": "python",
   "pygments_lexer": "ipython3",
   "version": "3.11.6"
  }
 },
 "nbformat": 4,
 "nbformat_minor": 5
}
